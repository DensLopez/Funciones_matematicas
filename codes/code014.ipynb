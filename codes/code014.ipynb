{
 "cells": [
  {
   "cell_type": "markdown",
   "metadata": {},
   "source": [
    "# Regresión lineal simple\n",
    "Debes tener la habilidad de modelar ciertos problemas, por ello debes saber como funciona la regresión lineal"
   ]
  },
  {
   "cell_type": "markdown",
   "metadata": {},
   "source": [
    "# Ejemplo\n",
    "Digamos que te contratan como empleado y te dan una relación de datos entre gastos de publicidad y ganancias en $US.\n",
    "\n",
    "| Gasto $K\\$$| Ganancia $K\\$$|\n",
    "|------------------|--------------|\n",
    "|1.2|2|\n",
    "|2|3|\n",
    "|3.2|3.4|\n",
    "|2.5|3.1|\n",
    "|5|4|\n",
    "|6|4.7|\n",
    "|4|3.8|\n",
    "|8|7|"
   ]
  },
  {
   "cell_type": "markdown",
   "metadata": {},
   "source": [
    "Despues me pide que elabore un modelo para predecir **¿cuanto voy a ganar o cuanto voy a gastar?**"
   ]
  },
  {
   "cell_type": "code",
   "execution_count": 1,
   "metadata": {},
   "outputs": [],
   "source": [
    "import numpy as np\n",
    "import matplotlib.pyplot as plt\n",
    "\n",
    "#Configurando Latex\n",
    "# Configuración de Matplotlib para usar LaTeX\n",
    "plt.rcParams.update({\n",
    "    \"text.usetex\": True,\n",
    "    \"font.family\": \"serif\",\n",
    "    \"font.serif\": [\"Computer Modern Roman\"],\n",
    "    \"text.latex.preamble\": r\"\\usepackage{amsmath}\"\n",
    "})"
   ]
  },
  {
   "cell_type": "code",
   "execution_count": 8,
   "metadata": {},
   "outputs": [
    {
     "name": "stderr",
     "output_type": "stream",
     "text": [
      "No artists with labels found to put in legend.  Note that artists whose label start with an underscore are ignored when legend() is called with no argument.\n"
     ]
    },
    {
     "data": {
      "image/png": "[encoded data removed]",
      "text/plain": [
       "<Figure size 640x480 with 1 Axes>"
      ]
     },
     "metadata": {},
     "output_type": "display_data"
    }
   ],
   "source": [
    "#Planteando el problema en código\n",
    "gasto=np.array([1.2,2,3.2,2.5,5,6,4,8])\n",
    "ganancia = np.array([2,3,3.4,3.1,4,4.7,3.8,7])\n",
    "\n",
    "#Creando graficas\n",
    "fig, ax = plt.subplots()\n",
    "ax.scatter(gasto,ganancia,color='green',alpha=0.8)\n",
    "ax.grid()\n",
    "ax.axhline(y=0, color='r',linewidth=.7)\n",
    "ax.axvline(x=0, color='r',linewidth=.7)\n",
    "plt.title('Gasto vs Ganancia\\n',fontsize=23)\n",
    "plt.xlabel(r'Gasto $(\\$)$',fontsize=18)\n",
    "plt.ylabel(r'Ganancia $(\\$)$',fontsize=18)\n",
    "plt.legend()\n",
    "plt.show()"
   ]
  },
  {
   "cell_type": "markdown",
   "metadata": {},
   "source": [
    "Por eso es tan importante que aprendas a modelar funciones o sepas como se van a estar comportando los datos."
   ]
  },
  {
   "cell_type": "markdown",
   "metadata": {},
   "source": [
    "Una función que nos puede ayudar a ver como se comportan los datos es una linea recta.\n",
    "\n",
    "En donde obtenemos a $b$ cuando $x=0$, entonces podemos decir que $b=f(0)$. Recordemos que la ecuación es:\n",
    "$$y=mx+b$$   \n",
    "Pero hay un problema y es que hay muchas lineas rectas que pueden pasar por los puntos. Entonces **¿cómo podemos saber que linea es la adecuada?**\n",
    "**¿Cómo podemos decir si es mejor una a otra?**\n",
    "\n",
    "Tal vez deberiamos medir que tan equivocados estamos, entonces para eso se crean otro tipo de funciones llamadas ***funciones de error***. Veamoslo en la siguiente."
   ]
  },
  {
   "cell_type": "markdown",
   "metadata": {},
   "source": [
    "## Extras:\n",
    "- [Regresión lineal](https://www.youtube.com/watch?v=5TcA5M5z4sA)\n",
    "- [Regresión lineal](https://www.youtube.com/watch?v=k964_uNn3l0)"
   ]
  }
 ],
 "metadata": {
  "kernelspec": {
   "display_name": "base",
   "language": "python",
   "name": "python3"
  },
  "language_info": {
   "codemirror_mode": {
    "name": "ipython",
    "version": 3
   },
   "file_extension": ".py",
   "mimetype": "text/x-python",
   "name": "python",
   "nbconvert_exporter": "python",
   "pygments_lexer": "ipython3",
   "version": "3.12.3"
  }
 },
 "nbformat": 4,
 "nbformat_minor": 2
}
